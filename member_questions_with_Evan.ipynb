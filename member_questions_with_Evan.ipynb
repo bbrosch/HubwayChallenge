{
 "cells": [
  {
   "cell_type": "markdown",
   "metadata": {},
   "source": [
    "# <font color=black>Key</font> \n",
    "### <font color=#ff5c33>Intermediate To Do Steps  (blocks)</font>\n",
    "### <font color=#f4d942>looking around (eda)</font> \n",
    "### <font color=blue>Answer cell</font>"
   ]
  },
  {
   "cell_type": "code",
   "execution_count": 434,
   "metadata": {
    "collapsed": true
   },
   "outputs": [],
   "source": [
    "import matplotlib.pyplot as plt\n",
    "import numpy as np\n",
    "import pandas as pd\n",
    "%matplotlib inline"
   ]
  },
  {
   "cell_type": "markdown",
   "metadata": {
    "collapsed": true
   },
   "source": [
    "# <font color=#ff5c33>Answer 3 member related questions: \n",
    "1. different top stations for male vs female? --done\n",
    "2. are all rentals after 2am by riders under 25? -- done\n",
    "3. which station gets most tourist traffic vs most commuters?\n",
    "4. extra (not required) -- add seasonality idenfity season of year for rides\n",
    "5. extra (not required) -- pull in weather data</font>\n",
    " \n"
   ]
  },
  {
   "cell_type": "code",
   "execution_count": 435,
   "metadata": {
    "collapsed": true
   },
   "outputs": [],
   "source": [
    "df = pd.read_csv('Data/201712-hubway-tripdata.csv')"
   ]
  },
  {
   "cell_type": "code",
   "execution_count": 436,
   "metadata": {
    "collapsed": true
   },
   "outputs": [],
   "source": [
    "# reset gender column to male & female from randomn nuumbers\n",
    "df['gender'] = np.where(df.gender==1,'male',np.where(df.gender==2,'female','unknown'))"
   ]
  },
  {
   "cell_type": "code",
   "execution_count": 437,
   "metadata": {
    "collapsed": true
   },
   "outputs": [],
   "source": [
    "# make column names one word & remove spaces to make acessing values easier\n",
    "columns = []\n",
    "for column in df.columns:\n",
    "    columns.append(column.replace(' ','_'))\n",
    "df.columns = columns "
   ]
  },
  {
   "cell_type": "markdown",
   "metadata": {},
   "source": [
    "## <font color=#ff5c33>set timeseries index & convert to datetime object</font>"
   ]
  },
  {
   "cell_type": "code",
   "execution_count": 438,
   "metadata": {
    "collapsed": true
   },
   "outputs": [],
   "source": [
    "# convert start, stop times & set index\n",
    "df['starttime'] = pd.to_datetime(df.starttime)\n",
    "df['stoptime'] = pd.to_datetime(df.stoptime)\n",
    "df.set_index('starttime',inplace=True)"
   ]
  },
  {
   "cell_type": "code",
   "execution_count": 439,
   "metadata": {},
   "outputs": [
    {
     "data": {
      "text/html": [
       "<div>\n",
       "<style>\n",
       "    .dataframe thead tr:only-child th {\n",
       "        text-align: right;\n",
       "    }\n",
       "\n",
       "    .dataframe thead th {\n",
       "        text-align: left;\n",
       "    }\n",
       "\n",
       "    .dataframe tbody tr th {\n",
       "        vertical-align: top;\n",
       "    }\n",
       "</style>\n",
       "<table border=\"1\" class=\"dataframe\">\n",
       "  <thead>\n",
       "    <tr style=\"text-align: right;\">\n",
       "      <th></th>\n",
       "      <th>tripduration</th>\n",
       "      <th>stoptime</th>\n",
       "      <th>start_station_id</th>\n",
       "      <th>start_station_name</th>\n",
       "      <th>start_station_latitude</th>\n",
       "      <th>start_station_longitude</th>\n",
       "      <th>end_station_id</th>\n",
       "      <th>end_station_name</th>\n",
       "      <th>end_station_latitude</th>\n",
       "      <th>end_station_longitude</th>\n",
       "      <th>bikeid</th>\n",
       "      <th>usertype</th>\n",
       "      <th>birth_year</th>\n",
       "      <th>gender</th>\n",
       "    </tr>\n",
       "    <tr>\n",
       "      <th>starttime</th>\n",
       "      <th></th>\n",
       "      <th></th>\n",
       "      <th></th>\n",
       "      <th></th>\n",
       "      <th></th>\n",
       "      <th></th>\n",
       "      <th></th>\n",
       "      <th></th>\n",
       "      <th></th>\n",
       "      <th></th>\n",
       "      <th></th>\n",
       "      <th></th>\n",
       "      <th></th>\n",
       "      <th></th>\n",
       "    </tr>\n",
       "  </thead>\n",
       "  <tbody>\n",
       "    <tr>\n",
       "      <th>2017-12-01 00:02:02</th>\n",
       "      <td>200</td>\n",
       "      <td>2017-12-01 00:05:22</td>\n",
       "      <td>160</td>\n",
       "      <td>Wentworth Institute of Technology - Huntington...</td>\n",
       "      <td>42.337586</td>\n",
       "      <td>-71.096271</td>\n",
       "      <td>12</td>\n",
       "      <td>Ruggles T Stop - Columbus Ave at Melnea Cass Blvd</td>\n",
       "      <td>42.336244</td>\n",
       "      <td>-71.087986</td>\n",
       "      <td>1938</td>\n",
       "      <td>Subscriber</td>\n",
       "      <td>1982</td>\n",
       "      <td>unknown</td>\n",
       "    </tr>\n",
       "    <tr>\n",
       "      <th>2017-12-01 00:06:14</th>\n",
       "      <td>365</td>\n",
       "      <td>2017-12-01 00:12:20</td>\n",
       "      <td>226</td>\n",
       "      <td>Commonwealth Ave At Babcock St</td>\n",
       "      <td>42.351547</td>\n",
       "      <td>-71.121262</td>\n",
       "      <td>10</td>\n",
       "      <td>B.U. Central - 725 Comm. Ave.</td>\n",
       "      <td>42.350406</td>\n",
       "      <td>-71.108279</td>\n",
       "      <td>57</td>\n",
       "      <td>Subscriber</td>\n",
       "      <td>1997</td>\n",
       "      <td>male</td>\n",
       "    </tr>\n",
       "    <tr>\n",
       "      <th>2017-12-01 00:09:08</th>\n",
       "      <td>297</td>\n",
       "      <td>2017-12-01 00:14:06</td>\n",
       "      <td>74</td>\n",
       "      <td>Harvard Square at Mass Ave/ Dunster</td>\n",
       "      <td>42.373268</td>\n",
       "      <td>-71.118579</td>\n",
       "      <td>76</td>\n",
       "      <td>Central Sq Post Office / Cambridge City Hall a...</td>\n",
       "      <td>42.366426</td>\n",
       "      <td>-71.105495</td>\n",
       "      <td>1201</td>\n",
       "      <td>Subscriber</td>\n",
       "      <td>1977</td>\n",
       "      <td>male</td>\n",
       "    </tr>\n",
       "  </tbody>\n",
       "</table>\n",
       "</div>"
      ],
      "text/plain": [
       "                     tripduration            stoptime  start_station_id  \\\n",
       "starttime                                                                 \n",
       "2017-12-01 00:02:02           200 2017-12-01 00:05:22               160   \n",
       "2017-12-01 00:06:14           365 2017-12-01 00:12:20               226   \n",
       "2017-12-01 00:09:08           297 2017-12-01 00:14:06                74   \n",
       "\n",
       "                                                    start_station_name  \\\n",
       "starttime                                                                \n",
       "2017-12-01 00:02:02  Wentworth Institute of Technology - Huntington...   \n",
       "2017-12-01 00:06:14                     Commonwealth Ave At Babcock St   \n",
       "2017-12-01 00:09:08                Harvard Square at Mass Ave/ Dunster   \n",
       "\n",
       "                     start_station_latitude  start_station_longitude  \\\n",
       "starttime                                                              \n",
       "2017-12-01 00:02:02               42.337586               -71.096271   \n",
       "2017-12-01 00:06:14               42.351547               -71.121262   \n",
       "2017-12-01 00:09:08               42.373268               -71.118579   \n",
       "\n",
       "                     end_station_id  \\\n",
       "starttime                             \n",
       "2017-12-01 00:02:02              12   \n",
       "2017-12-01 00:06:14              10   \n",
       "2017-12-01 00:09:08              76   \n",
       "\n",
       "                                                      end_station_name  \\\n",
       "starttime                                                                \n",
       "2017-12-01 00:02:02  Ruggles T Stop - Columbus Ave at Melnea Cass Blvd   \n",
       "2017-12-01 00:06:14                      B.U. Central - 725 Comm. Ave.   \n",
       "2017-12-01 00:09:08  Central Sq Post Office / Cambridge City Hall a...   \n",
       "\n",
       "                     end_station_latitude  end_station_longitude  bikeid  \\\n",
       "starttime                                                                  \n",
       "2017-12-01 00:02:02             42.336244             -71.087986    1938   \n",
       "2017-12-01 00:06:14             42.350406             -71.108279      57   \n",
       "2017-12-01 00:09:08             42.366426             -71.105495    1201   \n",
       "\n",
       "                       usertype birth_year   gender  \n",
       "starttime                                            \n",
       "2017-12-01 00:02:02  Subscriber       1982  unknown  \n",
       "2017-12-01 00:06:14  Subscriber       1997     male  \n",
       "2017-12-01 00:09:08  Subscriber       1977     male  "
      ]
     },
     "execution_count": 439,
     "metadata": {},
     "output_type": "execute_result"
    }
   ],
   "source": [
    "df.head(3)"
   ]
  },
  {
   "cell_type": "markdown",
   "metadata": {},
   "source": [
    "## <font color=#ff5c33>get user age</font>"
   ]
  },
  {
   "cell_type": "markdown",
   "metadata": {},
   "source": [
    "## <font color=#f4d942>checkout age data</font>"
   ]
  },
  {
   "cell_type": "code",
   "execution_count": 444,
   "metadata": {},
   "outputs": [
    {
     "name": "stdout",
     "output_type": "stream",
     "text": [
      "<class 'str'>\n",
      "55072\n",
      "52952\n"
     ]
    }
   ],
   "source": [
    "print(type(df.birth_year[0]))\n",
    "print(df.birth_year.notnull().sum())\n",
    "print(df.birth_year.str.isnumeric().sum())"
   ]
  },
  {
   "cell_type": "code",
   "execution_count": 445,
   "metadata": {},
   "outputs": [],
   "source": [
    "# convert birth year to integer & calculate age at time of rental\n",
    "def birth_year(year):\n",
    "    \"\"\" converts year string to int or NaN if not numeric\"\"\"\n",
    "    if year.isnumeric():\n",
    "        return(int(year))\n",
    "    else:\n",
    "        return(0) # will create 0 ints and 2017 age values--later removed \n",
    "\n",
    "df['birth_year'] = df.birth_year.apply(lambda x: birth_year(x))\n",
    "df['age'] = df.index.year - df.birth_year"
   ]
  },
  {
   "cell_type": "code",
   "execution_count": 447,
   "metadata": {},
   "outputs": [
    {
     "name": "stdout",
     "output_type": "stream",
     "text": [
      "<class 'numpy.int64'>\n",
      "1945    6\n",
      "1929    6\n",
      "1900    5\n",
      "1937    4\n",
      "1886    1\n",
      "Name: birth_year, dtype: int64\n",
      "[2017   83   88  131  117]\n"
     ]
    }
   ],
   "source": [
    "# checkout age data\n",
    "print(type(df.birth_year[0]))\n",
    "print(df.birth_year.value_counts().tail())\n",
    "print(df[df.age>80].age.unique())"
   ]
  },
  {
   "cell_type": "markdown",
   "metadata": {},
   "source": [
    "##  <font color=#ff5c33> create df with ages over 99 removed </font>"
   ]
  },
  {
   "cell_type": "code",
   "execution_count": 448,
   "metadata": {},
   "outputs": [],
   "source": [
    "df_99 = df[df.age<100]"
   ]
  },
  {
   "cell_type": "markdown",
   "metadata": {},
   "source": [
    "## <font color=#f4d942>checkout age & gender distribution</font>"
   ]
  },
  {
   "cell_type": "code",
   "execution_count": 450,
   "metadata": {},
   "outputs": [
    {
     "name": "stderr",
     "output_type": "stream",
     "text": [
      "/Users/babilalima/anaconda3/lib/python3.6/site-packages/numpy/core/fromnumeric.py:57: FutureWarning: reshape is deprecated and will raise in a subsequent release. Please use .values.reshape(...) instead\n",
      "  return getattr(obj, method)(*args, **kwds)\n"
     ]
    },
    {
     "data": {
      "image/png": "[encoded data removed]",
      "text/plain": [
       "<matplotlib.figure.Figure at 0x128edb828>"
      ]
     },
     "metadata": {},
     "output_type": "display_data"
    }
   ],
   "source": [
    "sex_color = {'unknown':'#8d9093','male':'#04497a','female':'#f28aee',}\n",
    "\n",
    "fig,ax = plt.subplots(1,2,figsize=(8,4))\n",
    "\n",
    "ax = ax.flatten()\n",
    "data = []\n",
    "labels = []\n",
    "for sex in df_99.gender.unique():\n",
    "    data.append(df_99[df_99.gender==sex].age)\n",
    "    labels.append(sex)\n",
    "ax[0].boxplot(data,labels=labels);\n",
    "ax[0].set_title('Age of Riders by Gender')\n",
    "    \n",
    "for sex in df.gender.unique():\n",
    "    ax[1] = df_99[df_99.gender==sex].age.\\\n",
    "    hist(label=sex,color=sex_color[sex],alpha=.6)\n",
    "ax[1].set_title('rider age distribution by gender');"
   ]
  },
  {
   "cell_type": "markdown",
   "metadata": {},
   "source": [
    "## <font color=#f4d942>ridership trends?</font>"
   ]
  },
  {
   "cell_type": "code",
   "execution_count": 451,
   "metadata": {},
   "outputs": [
    {
     "name": "stdout",
     "output_type": "stream",
     "text": [
      "peak hour ridership is 6548 riders.\n"
     ]
    },
    {
     "data": {
      "image/png": "[encoded data removed]",
      "text/plain": [
       "<matplotlib.figure.Figure at 0x1296e0198>"
      ]
     },
     "metadata": {},
     "output_type": "display_data"
    }
   ],
   "source": [
    "fig,ax = plt.subplots(figsize=(18,4))\n",
    "labels = np.arange(df_99.index.hour.min(),df_99.index.hour.max()+1)\n",
    "\n",
    "x = df_99.groupby(df_99.index.hour).start_station_id.count().plot();\n",
    "print('peak hour ridership is {} riders.'.\\\n",
    "      format(df_99.groupby(df_99.index.hour).\\\n",
    "             start_station_id.count().max()))\n",
    "plt.xlabel('ride start (hr)',fontsize=20)\n",
    "plt.ylabel('rides started',fontsize=20)\n",
    "plt.title('usership cycle -- all riders',fontsize=25);\n",
    "ax.xaxis.set_major_locator((plt.MaxNLocator(df_99.index.hour.max())))\n",
    "ax.set_xticklabels(labels)\n",
    "plt.grid();"
   ]
  },
  {
   "cell_type": "code",
   "execution_count": 333,
   "metadata": {},
   "outputs": [
    {
     "data": {
      "image/png": "[encoded data removed]",
      "text/plain": [
       "<matplotlib.figure.Figure at 0x12712d438>"
      ]
     },
     "metadata": {},
     "output_type": "display_data"
    }
   ],
   "source": [
    "fig,ax = plt.subplots(figsize=(18,4))\n",
    "for sex in df_99.gender.unique():\n",
    "    df_99[(df_99.age<=25)&(df_99.gender==sex)].\\\n",
    "    groupby(df_99[(df_99.age<=25)&(df_99.gender==sex)].\\\n",
    "            index.hour).start_station_id.count().\\\n",
    "    plot(label=sex,color=sex_color[sex],lw=3)\n",
    "plt.legend();\n",
    "plt.title('usership cycle -- riders under 25',fontsize=25)\n",
    "ax.xaxis.set_major_locator((plt.MaxNLocator(df_99.index.hour.max())))\n",
    "ax.set_xticklabels(labels)\n",
    "plt.xlabel('ride start (hr)',fontsize=20)\n",
    "plt.grid();"
   ]
  },
  {
   "cell_type": "code",
   "execution_count": 381,
   "metadata": {},
   "outputs": [
    {
     "name": "stderr",
     "output_type": "stream",
     "text": [
      "/Users/babilalima/anaconda3/lib/python3.6/site-packages/numpy/core/fromnumeric.py:57: FutureWarning: reshape is deprecated and will raise in a subsequent release. Please use .values.reshape(...) instead\n",
      "  return getattr(obj, method)(*args, **kwds)\n"
     ]
    },
    {
     "data": {
      "image/png": "[encoded data removed]",
      "text/plain": [
       "<matplotlib.figure.Figure at 0x12a4aeac8>"
      ]
     },
     "metadata": {},
     "output_type": "display_data"
    }
   ],
   "source": [
    "fig,ax = plt.subplots(1,2,figsize=(14,5))\n",
    "ax = ax.flatten()\n",
    "for sex in df_99.gender.unique():\n",
    "    ax[0].hist(df_99[(df_99.gender==sex)&(df_99.index.hour==2)].age,\\\n",
    "               color=sex_color[sex],alpha=.6)\n",
    "    \n",
    "data = []\n",
    "labels = []\n",
    "for sex in df_99.gender.unique():\n",
    "    data.append(df_99[(df_99.gender==sex)&(df_99.index.hour==2)].age)\n",
    "    labels.append(sex)\n",
    "    bxplt = ax[1].boxplot(data,labels=labels,patch_artist=True)\n",
    "\n",
    "for patch,sex in zip(bxplt['boxes'],sex_color.keys()):\n",
    "    patch.set_facecolor(sex_color[sex])\n",
    "    \n",
    "for patch in bxplt['medians']:\n",
    "    patch.set_color('red')\n",
    "    patch.set_linestyle('-')\n",
    "    patch.set_linewidth(2)\n",
    "\n",
    "ax[0].set_title('2am riders by age & gender',fontsize=20)\n",
    "ax[0].set_xlabel('age',fontsize=20)\n",
    "ax[0].set_ylabel('rider count',fontsize=20)\n",
    "ax[1].set_title('2am riders',fontsize=20)\n",
    "ax[1].set_ylabel('rider age',fontsize=20)\n",
    "ax[1].grid()"
   ]
  },
  {
   "cell_type": "markdown",
   "metadata": {},
   "source": [
    "## <font color=blue>are all rentals at 2am riders under 25?</font>"
   ]
  },
  {
   "cell_type": "code",
   "execution_count": 473,
   "metadata": {},
   "outputs": [
    {
     "name": "stdout",
     "output_type": "stream",
     "text": [
      "0.05% of all 2am riders under 25 yrs old are gendered: unknown.\n",
      "13.05% of all 2am riders under 25 yrs old are gendered: male.\n",
      "3.81% of all 2am riders under 25 yrs old are gendered: female.\n"
     ]
    }
   ],
   "source": [
    "for sex in df_99.gender.unique():\n",
    "    print('{:.2f}% of all 2am riders under 25 yrs old are gendered: {}.'.\\\n",
    "          format((df_99[(df_99.age<25)&(df_99.gender==sex)].\\\n",
    "                  tripduration.count() /\\\n",
    "                  df_99.tripduration.count())*100,sex))"
   ]
  },
  {
   "cell_type": "markdown",
   "metadata": {},
   "source": [
    "## <font color=#f4d942>looking at popular stations</font>"
   ]
  },
  {
   "cell_type": "code",
   "execution_count": 452,
   "metadata": {},
   "outputs": [],
   "source": [
    "df_pivot1 = pd.pivot_table(df[df.gender!='unknown'],values=['tripduration'],\\\n",
    "              index='start_station_name',columns=['gender'],\\\n",
    "              aggfunc={'tripduration':['count','sum','mean']})"
   ]
  },
  {
   "cell_type": "code",
   "execution_count": 453,
   "metadata": {},
   "outputs": [
    {
     "data": {
      "text/html": [
       "<div>\n",
       "<style>\n",
       "    .dataframe thead tr:only-child th {\n",
       "        text-align: right;\n",
       "    }\n",
       "\n",
       "    .dataframe thead th {\n",
       "        text-align: left;\n",
       "    }\n",
       "\n",
       "    .dataframe tbody tr th {\n",
       "        vertical-align: top;\n",
       "    }\n",
       "</style>\n",
       "<table border=\"1\" class=\"dataframe\">\n",
       "  <thead>\n",
       "    <tr>\n",
       "      <th></th>\n",
       "      <th colspan=\"6\" halign=\"left\">tripduration</th>\n",
       "    </tr>\n",
       "    <tr>\n",
       "      <th></th>\n",
       "      <th colspan=\"2\" halign=\"left\">count</th>\n",
       "      <th colspan=\"2\" halign=\"left\">mean</th>\n",
       "      <th colspan=\"2\" halign=\"left\">sum</th>\n",
       "    </tr>\n",
       "    <tr>\n",
       "      <th>gender</th>\n",
       "      <th>female</th>\n",
       "      <th>male</th>\n",
       "      <th>female</th>\n",
       "      <th>male</th>\n",
       "      <th>female</th>\n",
       "      <th>male</th>\n",
       "    </tr>\n",
       "    <tr>\n",
       "      <th>start_station_name</th>\n",
       "      <th></th>\n",
       "      <th></th>\n",
       "      <th></th>\n",
       "      <th></th>\n",
       "      <th></th>\n",
       "      <th></th>\n",
       "    </tr>\n",
       "  </thead>\n",
       "  <tbody>\n",
       "    <tr>\n",
       "      <th>MIT at Mass Ave / Amherst St</th>\n",
       "      <td>357.0</td>\n",
       "      <td>1627.0</td>\n",
       "      <td>583.221289</td>\n",
       "      <td>530.872772</td>\n",
       "      <td>208210.0</td>\n",
       "      <td>863730.0</td>\n",
       "    </tr>\n",
       "    <tr>\n",
       "      <th>MIT Stata Center at Vassar St / Main St</th>\n",
       "      <td>271.0</td>\n",
       "      <td>1221.0</td>\n",
       "      <td>583.022140</td>\n",
       "      <td>574.217854</td>\n",
       "      <td>157999.0</td>\n",
       "      <td>701120.0</td>\n",
       "    </tr>\n",
       "    <tr>\n",
       "      <th>South Station - 700 Atlantic Ave</th>\n",
       "      <td>199.0</td>\n",
       "      <td>1175.0</td>\n",
       "      <td>804.703518</td>\n",
       "      <td>597.474043</td>\n",
       "      <td>160136.0</td>\n",
       "      <td>702032.0</td>\n",
       "    </tr>\n",
       "    <tr>\n",
       "      <th>Kendall T</th>\n",
       "      <td>238.0</td>\n",
       "      <td>1044.0</td>\n",
       "      <td>1728.953782</td>\n",
       "      <td>495.035441</td>\n",
       "      <td>411491.0</td>\n",
       "      <td>516817.0</td>\n",
       "    </tr>\n",
       "    <tr>\n",
       "      <th>MIT Vassar St</th>\n",
       "      <td>117.0</td>\n",
       "      <td>916.0</td>\n",
       "      <td>605.341880</td>\n",
       "      <td>499.851528</td>\n",
       "      <td>70825.0</td>\n",
       "      <td>457864.0</td>\n",
       "    </tr>\n",
       "    <tr>\n",
       "      <th>MIT Pacific St at Purrington St</th>\n",
       "      <td>237.0</td>\n",
       "      <td>899.0</td>\n",
       "      <td>513.067511</td>\n",
       "      <td>446.032258</td>\n",
       "      <td>121597.0</td>\n",
       "      <td>400983.0</td>\n",
       "    </tr>\n",
       "    <tr>\n",
       "      <th>Central Square at Mass Ave / Essex St</th>\n",
       "      <td>273.0</td>\n",
       "      <td>888.0</td>\n",
       "      <td>613.890110</td>\n",
       "      <td>636.984234</td>\n",
       "      <td>167592.0</td>\n",
       "      <td>565642.0</td>\n",
       "    </tr>\n",
       "  </tbody>\n",
       "</table>\n",
       "</div>"
      ],
      "text/plain": [
       "                                        tripduration                       \\\n",
       "                                               count                 mean   \n",
       "gender                                        female    male       female   \n",
       "start_station_name                                                          \n",
       "MIT at Mass Ave / Amherst St                   357.0  1627.0   583.221289   \n",
       "MIT Stata Center at Vassar St / Main St        271.0  1221.0   583.022140   \n",
       "South Station - 700 Atlantic Ave               199.0  1175.0   804.703518   \n",
       "Kendall T                                      238.0  1044.0  1728.953782   \n",
       "MIT Vassar St                                  117.0   916.0   605.341880   \n",
       "MIT Pacific St at Purrington St                237.0   899.0   513.067511   \n",
       "Central Square at Mass Ave / Essex St          273.0   888.0   613.890110   \n",
       "\n",
       "                                                                         \n",
       "                                                          sum            \n",
       "gender                                         male    female      male  \n",
       "start_station_name                                                       \n",
       "MIT at Mass Ave / Amherst St             530.872772  208210.0  863730.0  \n",
       "MIT Stata Center at Vassar St / Main St  574.217854  157999.0  701120.0  \n",
       "South Station - 700 Atlantic Ave         597.474043  160136.0  702032.0  \n",
       "Kendall T                                495.035441  411491.0  516817.0  \n",
       "MIT Vassar St                            499.851528   70825.0  457864.0  \n",
       "MIT Pacific St at Purrington St          446.032258  121597.0  400983.0  \n",
       "Central Square at Mass Ave / Essex St    636.984234  167592.0  565642.0  "
      ]
     },
     "execution_count": 453,
     "metadata": {},
     "output_type": "execute_result"
    }
   ],
   "source": [
    "df_pivot1.sort_values(by=('tripduration','count','male'),\\\n",
    "                      ascending=False).head(7)"
   ]
  },
  {
   "cell_type": "markdown",
   "metadata": {},
   "source": [
    "## <font color=blue>top stations for male vs female members</font>"
   ]
  },
  {
   "cell_type": "code",
   "execution_count": 21,
   "metadata": {
    "scrolled": true
   },
   "outputs": [
    {
     "name": "stdout",
     "output_type": "stream",
     "text": [
      "\n",
      "Male Top 5 Stations by Ride Initiation Frequency:\n",
      "\n",
      "start_station_name\n",
      "MIT at Mass Ave / Amherst St               1627.0\n",
      "MIT Stata Center at Vassar St / Main St    1221.0\n",
      "South Station - 700 Atlantic Ave           1175.0\n",
      "Kendall T                                  1044.0\n",
      "MIT Vassar St                               916.0\n",
      "Name: male, dtype: float64\n",
      "\n",
      "Female Top 5 Stations by Ride Initiation Frequency:\n",
      "\n",
      "start_station_name\n",
      "MIT at Mass Ave / Amherst St                   357.0\n",
      "Central Square at Mass Ave / Essex St          273.0\n",
      "MIT Stata Center at Vassar St / Main St        271.0\n",
      "Copley Square - Dartmouth St at Boylston St    241.0\n",
      "Kendall T                                      238.0\n",
      "Name: female, dtype: float64\n"
     ]
    }
   ],
   "source": [
    "print('\\nMale Top 5 Stations by Ride Initiation Frequency:\\n')\n",
    "print(df_pivot1['tripduration']['count'].male.sort_values(ascending=False).head(5))\n",
    "print('\\nFemale Top 5 Stations by Ride Initiation Frequency:\\n')\n",
    "print(df_pivot1['tripduration']['count'].female.sort_values(ascending=False).head(5))"
   ]
  },
  {
   "cell_type": "markdown",
   "metadata": {},
   "source": [
    "# <font color=red>Can we see the top 5 on a map? Anything interesting there?<font>"
   ]
  }
 ],
 "metadata": {
  "kernelspec": {
   "display_name": "Python 3",
   "language": "python",
   "name": "python3"
  },
  "language_info": {
   "codemirror_mode": {
    "name": "ipython",
    "version": 3
   },
   "file_extension": ".py",
   "mimetype": "text/x-python",
   "name": "python",
   "nbconvert_exporter": "python",
   "pygments_lexer": "ipython3",
   "version": "3.6.3"
  }
 },
 "nbformat": 4,
 "nbformat_minor": 2
}
